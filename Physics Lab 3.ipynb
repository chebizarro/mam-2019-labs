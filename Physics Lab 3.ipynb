{
 "cells": [
  {
   "cell_type": "code",
   "execution_count": 2,
   "metadata": {
    "pycharm": {
     "is_executing": true,
     "name": "#%%\n"
    }
   },
   "outputs": [
    {
     "data": {
      "text/html": [
       "<div id=\"glowscript\" class=\"glowscript\"></div>"
      ],
      "text/plain": [
       "<IPython.core.display.HTML object>"
      ]
     },
     "metadata": {},
     "output_type": "display_data"
    },
    {
     "data": {
      "application/javascript": [
       "if (typeof Jupyter !== \"undefined\") { window.__context = { glowscript_container: $(\"#glowscript\").removeAttr(\"id\")};}else{ element.textContent = ' ';}"
      ],
      "text/plain": [
       "<IPython.core.display.Javascript object>"
      ]
     },
     "metadata": {},
     "output_type": "display_data"
    },
    {
     "name": "stdout",
     "output_type": "stream",
     "text": [
      "20.0 0.45 <0, -1, 0> 0.25 <0, -0.2, 0> <0, -0.98, 0> <0, 0.3, 0>\n",
      "0 -0.25 0.0 -0.6800000000000002\n"
     ]
    }
   ],
   "source": [
    "from vpython import *\n",
    "\n",
    "scene = canvas(width = 300, height = 300, align = 'left')\n",
    "\n",
    "## constants and data\n",
    "g = 9.8    # N/kg\n",
    "m = 0.1    # kg\n",
    "s0 = 0.2   # m\n",
    "ks = 20.0  # N/m\n",
    "dt = .1    # s\n",
    "\n",
    "block_pos_i = vector(0,-.25,0)\n",
    "block_vel_i = vector(0,0,0)\n",
    "\n",
    "## objects (origin is at ceiling)\n",
    "\n",
    "ceiling = box(pos=vector(0,0,0), length=2, height=0.01, width=.01)\n",
    "block = cylinder(pos=block_pos_i, axis=vector(0,-.05,0), radius=.05, color=color.orange)\n",
    "spring = helix(pos=vector(0,0,0), axis=block.pos, radius=.025, coils=20, color=color.cyan)\n",
    "\n",
    "## initial values\n",
    "t = 0\n",
    "block.m = m\n",
    "block.pos = block_pos_i\n",
    "block.p = block.m * block_vel_i\n",
    "L0= s0 * block.pos.hat\n",
    "\n",
    "## improve the display\n",
    "scene.autoscale = False ## turn off automatic camera zoom\n",
    "scene.center = vector(0,-1,0) ## move camera down\n",
    "scene.pause('Click mouse in this window to proceed')   \n",
    "# pause and wait for user to click mouse in animation window to start animation\n",
    "\n",
    "## calculation loop\n",
    "while t <.1:\n",
    "    rate(100)\n",
    "\n",
    "    Fgrav = vector(0, -block.m*g, 0)\n",
    "    L = block.pos - spring.pos\n",
    "    Lhat = L/mag(L)\n",
    "    s = mag(L) - L0.y\n",
    "    Fspring = vector(0,0.3,0) #-ks * s * Lhat\n",
    "    Fnet = Fgrav + Fspring\n",
    "    print(ks, s, Lhat, mag(L), L0, Fgrav, Fspring)\n",
    "    print(t, block.pos.y, block.p.y, Fnet.y)\n",
    "\n",
    "    block.p = block.p + Fnet * dt\n",
    "    block.pos = block.pos + (block.p/block.m) * dt\n",
    "    spring.axis = block.pos\n",
    "    \n",
    "    \n",
    "    t = t + dt\n",
    "    \n",
    "\n"
   ]
  },
  {
   "cell_type": "code",
   "execution_count": null,
   "metadata": {},
   "outputs": [],
   "source": []
  }
 ],
 "metadata": {
  "kernelspec": {
   "display_name": "VPython",
   "language": "python",
   "name": "vpython"
  },
  "language_info": {
   "codemirror_mode": {
    "name": "ipython",
    "version": 3
   },
   "file_extension": ".py",
   "mimetype": "text/x-python",
   "name": "python",
   "nbconvert_exporter": "python",
   "pygments_lexer": "ipython3",
   "version": "3.6.8"
  },
  "pycharm": {
   "stem_cell": {
    "cell_type": "raw",
    "metadata": {
     "collapsed": false
    },
    "source": []
   }
  }
 },
 "nbformat": 4,
 "nbformat_minor": 1
}
